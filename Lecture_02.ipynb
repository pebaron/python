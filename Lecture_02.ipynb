{
  "nbformat": 4,
  "nbformat_minor": 0,
  "metadata": {
    "colab": {
      "name": "Lecture_02.ipynb",
      "provenance": [],
      "collapsed_sections": []
    },
    "kernelspec": {
      "name": "python3",
      "display_name": "Python 3"
    }
  },
  "cells": [
    {
      "cell_type": "code",
      "metadata": {
        "id": "X46AC2n78Sgc"
      },
      "source": [
        "import numpy as np"
      ],
      "execution_count": null,
      "outputs": []
    },
    {
      "cell_type": "markdown",
      "metadata": {
        "id": "uy-B8Cb01eso"
      },
      "source": [
        "# Python lists"
      ]
    },
    {
      "cell_type": "markdown",
      "metadata": {
        "id": "0XvRFu9_BOnj"
      },
      "source": [
        "## Common use case"
      ]
    },
    {
      "cell_type": "code",
      "metadata": {
        "id": "e472s22u1bEa"
      },
      "source": [
        "l = [1,2,3,4]"
      ],
      "execution_count": null,
      "outputs": []
    },
    {
      "cell_type": "code",
      "metadata": {
        "id": "sLtMlVfg1eKE"
      },
      "source": [
        "# most common use case:\n",
        "\n",
        "l = []\n",
        "n = 100\n",
        "for a in range(1, n):\n",
        "  for b in range(a, n):\n",
        "    for c in range(a, n):\n",
        "      if a**2 + b**2 == c**2:\n",
        "        l.append([a,b,c])"
      ],
      "execution_count": null,
      "outputs": []
    },
    {
      "cell_type": "code",
      "metadata": {
        "id": "-mpxHmlqbJZS",
        "outputId": "448e8703-95bc-48cd-d2ac-8c22fa5c10c5",
        "colab": {
          "base_uri": "https://localhost:8080/"
        }
      },
      "source": [
        "len(l)"
      ],
      "execution_count": null,
      "outputs": [
        {
          "output_type": "execute_result",
          "data": {
            "text/plain": [
              "50"
            ]
          },
          "metadata": {
            "tags": []
          },
          "execution_count": 4
        }
      ]
    },
    {
      "cell_type": "code",
      "metadata": {
        "id": "YVTo8dqKbLBH"
      },
      "source": [
        "len = 5"
      ],
      "execution_count": null,
      "outputs": []
    },
    {
      "cell_type": "code",
      "metadata": {
        "id": "gakuaZjR1fwQ",
        "outputId": "20f31554-4f71-4347-a1ed-7e7c73158bc6",
        "colab": {
          "base_uri": "https://localhost:8080/"
        }
      },
      "source": [
        "l[:4]"
      ],
      "execution_count": null,
      "outputs": [
        {
          "output_type": "execute_result",
          "data": {
            "text/plain": [
              "[[3, 4, 5], [5, 12, 13], [6, 8, 10], [7, 24, 25]]"
            ]
          },
          "metadata": {
            "tags": []
          },
          "execution_count": 8
        }
      ]
    },
    {
      "cell_type": "code",
      "metadata": {
        "id": "YBthfkxabb4U"
      },
      "source": [
        ""
      ],
      "execution_count": null,
      "outputs": []
    },
    {
      "cell_type": "code",
      "metadata": {
        "id": "YffrwIbfbD6V",
        "outputId": "97069d38-cf15-476e-a9f2-a1432fc7ffca",
        "colab": {
          "base_uri": "https://localhost:8080/"
        }
      },
      "source": [
        "list"
      ],
      "execution_count": null,
      "outputs": [
        {
          "output_type": "execute_result",
          "data": {
            "text/plain": [
              "[1, 2, 3]"
            ]
          },
          "metadata": {
            "tags": []
          },
          "execution_count": 16
        }
      ]
    },
    {
      "cell_type": "code",
      "metadata": {
        "id": "Nz7JtEg5arQp",
        "outputId": "0c733e86-74a6-4739-aa97-c0a3f82e04cd",
        "colab": {
          "base_uri": "https://localhost:8080/",
          "height": 163
        }
      },
      "source": [
        "l2 = list(\"abcd\")"
      ],
      "execution_count": null,
      "outputs": [
        {
          "output_type": "error",
          "ename": "TypeError",
          "evalue": "ignored",
          "traceback": [
            "\u001b[0;31m---------------------------------------------------------------------------\u001b[0m",
            "\u001b[0;31mTypeError\u001b[0m                                 Traceback (most recent call last)",
            "\u001b[0;32m<ipython-input-15-e0b6587cd934>\u001b[0m in \u001b[0;36m<module>\u001b[0;34m()\u001b[0m\n\u001b[0;32m----> 1\u001b[0;31m \u001b[0ml2\u001b[0m \u001b[0;34m=\u001b[0m \u001b[0mlist\u001b[0m\u001b[0;34m(\u001b[0m\u001b[0;34m\"abcd\"\u001b[0m\u001b[0;34m)\u001b[0m\u001b[0;34m\u001b[0m\u001b[0;34m\u001b[0m\u001b[0m\n\u001b[0m",
            "\u001b[0;31mTypeError\u001b[0m: 'list' object is not callable"
          ]
        }
      ]
    },
    {
      "cell_type": "code",
      "metadata": {
        "id": "JLwVzRleaxbO",
        "outputId": "dfcd2f65-82fe-4794-adc4-fcdc0044f02e",
        "colab": {
          "base_uri": "https://localhost:8080/"
        }
      },
      "source": [
        "l2"
      ],
      "execution_count": null,
      "outputs": [
        {
          "output_type": "execute_result",
          "data": {
            "text/plain": [
              "['a', 'b', 'c', 'd']"
            ]
          },
          "metadata": {
            "tags": []
          },
          "execution_count": 11
        }
      ]
    },
    {
      "cell_type": "code",
      "metadata": {
        "id": "KTlgbjdKay_O"
      },
      "source": [
        "#"
      ],
      "execution_count": null,
      "outputs": []
    },
    {
      "cell_type": "markdown",
      "metadata": {
        "id": "wS6L12b-BQ3T"
      },
      "source": [
        "## Interesting problem"
      ]
    },
    {
      "cell_type": "code",
      "metadata": {
        "id": "TWAi33Wn1pLY"
      },
      "source": [
        "# typical error"
      ],
      "execution_count": null,
      "outputs": []
    },
    {
      "cell_type": "code",
      "metadata": {
        "id": "m7cR5zi68c3l"
      },
      "source": [
        "# x= list(np.random.randn(10**3))"
      ],
      "execution_count": null,
      "outputs": []
    },
    {
      "cell_type": "code",
      "metadata": {
        "id": "ccOcOq5i8a0z"
      },
      "source": [
        "# x[0]"
      ],
      "execution_count": null,
      "outputs": []
    },
    {
      "cell_type": "code",
      "metadata": {
        "id": "OBy_7B-f8zB8"
      },
      "source": [
        "list = [1,2,3]"
      ],
      "execution_count": null,
      "outputs": []
    },
    {
      "cell_type": "code",
      "metadata": {
        "id": "Em9MdzGl89Wz",
        "outputId": "26e8a186-d86f-4872-b24d-87882032ab87",
        "colab": {
          "base_uri": "https://localhost:8080/",
          "height": 163
        }
      },
      "source": [
        "y= list(np.random.randn(10**3))"
      ],
      "execution_count": null,
      "outputs": [
        {
          "output_type": "error",
          "ename": "TypeError",
          "evalue": "ignored",
          "traceback": [
            "\u001b[0;31m---------------------------------------------------------------------------\u001b[0m",
            "\u001b[0;31mTypeError\u001b[0m                                 Traceback (most recent call last)",
            "\u001b[0;32m<ipython-input-117-f9799e93d5d6>\u001b[0m in \u001b[0;36m<module>\u001b[0;34m()\u001b[0m\n\u001b[0;32m----> 1\u001b[0;31m \u001b[0my\u001b[0m\u001b[0;34m=\u001b[0m \u001b[0mlist\u001b[0m\u001b[0;34m(\u001b[0m\u001b[0mnp\u001b[0m\u001b[0;34m.\u001b[0m\u001b[0mrandom\u001b[0m\u001b[0;34m.\u001b[0m\u001b[0mrandn\u001b[0m\u001b[0;34m(\u001b[0m\u001b[0;36m10\u001b[0m\u001b[0;34m**\u001b[0m\u001b[0;36m3\u001b[0m\u001b[0;34m)\u001b[0m\u001b[0;34m)\u001b[0m\u001b[0;34m\u001b[0m\u001b[0;34m\u001b[0m\u001b[0m\n\u001b[0m",
            "\u001b[0;31mTypeError\u001b[0m: 'list' object is not callable"
          ]
        }
      ]
    },
    {
      "cell_type": "code",
      "metadata": {
        "id": "MqFIMMhYckO9"
      },
      "source": [
        "measument = [ [1, 2.5, \"Adam\"], [2, 3.5, \"Klaudia\"] ]"
      ],
      "execution_count": null,
      "outputs": []
    },
    {
      "cell_type": "code",
      "metadata": {
        "id": "_eqmc8-fcx-h",
        "outputId": "bd99f72d-1af6-4096-9641-f8e8ffe25778",
        "colab": {
          "base_uri": "https://localhost:8080/",
          "height": 163
        }
      },
      "source": [
        "measument[0][0] + measument[0][2]"
      ],
      "execution_count": null,
      "outputs": [
        {
          "output_type": "error",
          "ename": "TypeError",
          "evalue": "ignored",
          "traceback": [
            "\u001b[0;31m---------------------------------------------------------------------------\u001b[0m",
            "\u001b[0;31mTypeError\u001b[0m                                 Traceback (most recent call last)",
            "\u001b[0;32m<ipython-input-11-07735b391ffc>\u001b[0m in \u001b[0;36m<module>\u001b[0;34m()\u001b[0m\n\u001b[0;32m----> 1\u001b[0;31m \u001b[0mmeasument\u001b[0m\u001b[0;34m[\u001b[0m\u001b[0;36m0\u001b[0m\u001b[0;34m]\u001b[0m\u001b[0;34m[\u001b[0m\u001b[0;36m0\u001b[0m\u001b[0;34m]\u001b[0m \u001b[0;34m+\u001b[0m \u001b[0mmeasument\u001b[0m\u001b[0;34m[\u001b[0m\u001b[0;36m0\u001b[0m\u001b[0;34m]\u001b[0m\u001b[0;34m[\u001b[0m\u001b[0;36m2\u001b[0m\u001b[0;34m]\u001b[0m\u001b[0;34m\u001b[0m\u001b[0;34m\u001b[0m\u001b[0m\n\u001b[0m",
            "\u001b[0;31mTypeError\u001b[0m: unsupported operand type(s) for +: 'int' and 'str'"
          ]
        }
      ]
    },
    {
      "cell_type": "code",
      "metadata": {
        "id": "qPBKRej4eAQW",
        "outputId": "163f0bcd-08bf-4efe-d94e-ad2720d4378b",
        "colab": {
          "base_uri": "https://localhost:8080/"
        }
      },
      "source": [
        "0.1 + 0.2 == 0.3"
      ],
      "execution_count": null,
      "outputs": [
        {
          "output_type": "execute_result",
          "data": {
            "text/plain": [
              "False"
            ]
          },
          "metadata": {
            "tags": []
          },
          "execution_count": 12
        }
      ]
    },
    {
      "cell_type": "markdown",
      "metadata": {
        "id": "yT4jDTE4BUp9"
      },
      "source": [
        "# Numpy"
      ]
    },
    {
      "cell_type": "markdown",
      "metadata": {
        "id": "xH7aIXKeBWLR"
      },
      "source": [
        "## Numpy vs list"
      ]
    },
    {
      "cell_type": "code",
      "metadata": {
        "id": "L4Sy77Xrfgsp"
      },
      "source": [
        "def fun(x):\n",
        "  return x**137 - x**2"
      ],
      "execution_count": null,
      "outputs": []
    },
    {
      "cell_type": "code",
      "metadata": {
        "id": "f7dw9M7zfnjN"
      },
      "source": [
        "x1 = np.array([range(10)])"
      ],
      "execution_count": null,
      "outputs": []
    },
    {
      "cell_type": "code",
      "metadata": {
        "id": "bmXEZQfvftFZ",
        "outputId": "c6bf036e-14af-4839-de6d-10573897d075",
        "colab": {
          "base_uri": "https://localhost:8080/"
        }
      },
      "source": [
        "fun(x1)"
      ],
      "execution_count": null,
      "outputs": [
        {
          "output_type": "execute_result",
          "data": {
            "text/plain": [
              "array([[                   0,                    0,                   -4,\n",
              "         6390225231553133274,                  -16, -1527281209667402932,\n",
              "                         -36,  1081395378516079382,                  -64,\n",
              "         -904147318867942152]])"
            ]
          },
          "metadata": {
            "tags": []
          },
          "execution_count": 22
        }
      ]
    },
    {
      "cell_type": "code",
      "metadata": {
        "id": "Hg0uhgYgf7y7"
      },
      "source": [
        "x2 = np.geomspace(1e-5, 1e5, num=100)"
      ],
      "execution_count": null,
      "outputs": []
    },
    {
      "cell_type": "code",
      "metadata": {
        "id": "rrcEqgJFgCAq",
        "outputId": "b3fdd8b3-4eae-41f3-d051-d5f7945c07ba",
        "colab": {
          "base_uri": "https://localhost:8080/"
        }
      },
      "source": [
        "x2"
      ],
      "execution_count": null,
      "outputs": [
        {
          "output_type": "execute_result",
          "data": {
            "text/plain": [
              "array([1.00000000e-05, 1.26185688e-05, 1.59228279e-05, 2.00923300e-05,\n",
              "       2.53536449e-05, 3.19926714e-05, 4.03701726e-05, 5.09413801e-05,\n",
              "       6.42807312e-05, 8.11130831e-05, 1.02353102e-04, 1.29154967e-04,\n",
              "       1.62975083e-04, 2.05651231e-04, 2.59502421e-04, 3.27454916e-04,\n",
              "       4.13201240e-04, 5.21400829e-04, 6.57933225e-04, 8.30217568e-04,\n",
              "       1.04761575e-03, 1.32194115e-03, 1.66810054e-03, 2.10490414e-03,\n",
              "       2.65608778e-03, 3.35160265e-03, 4.22924287e-03, 5.33669923e-03,\n",
              "       6.73415066e-03, 8.49753436e-03, 1.07226722e-02, 1.35304777e-02,\n",
              "       1.70735265e-02, 2.15443469e-02, 2.71858824e-02, 3.43046929e-02,\n",
              "       4.32876128e-02, 5.46227722e-02, 6.89261210e-02, 8.69749003e-02,\n",
              "       1.09749877e-01, 1.38488637e-01, 1.74752840e-01, 2.20513074e-01,\n",
              "       2.78255940e-01, 3.51119173e-01, 4.43062146e-01, 5.59081018e-01,\n",
              "       7.05480231e-01, 8.90215085e-01, 1.12332403e+00, 1.41747416e+00,\n",
              "       1.78864953e+00, 2.25701972e+00, 2.84803587e+00, 3.59381366e+00,\n",
              "       4.53487851e+00, 5.72236766e+00, 7.22080902e+00, 9.11162756e+00,\n",
              "       1.14975700e+01, 1.45082878e+01, 1.83073828e+01, 2.31012970e+01,\n",
              "       2.91505306e+01, 3.67837977e+01, 4.64158883e+01, 5.85702082e+01,\n",
              "       7.39072203e+01, 9.32603347e+01, 1.17681195e+02, 1.48496826e+02,\n",
              "       1.87381742e+02, 2.36448941e+02, 2.98364724e+02, 3.76493581e+02,\n",
              "       4.75081016e+02, 5.99484250e+02, 7.56463328e+02, 9.54548457e+02,\n",
              "       1.20450354e+03, 1.51991108e+03, 1.91791026e+03, 2.42012826e+03,\n",
              "       3.05385551e+03, 3.85352859e+03, 4.86260158e+03, 6.13590727e+03,\n",
              "       7.74263683e+03, 9.77009957e+03, 1.23284674e+04, 1.55567614e+04,\n",
              "       1.96304065e+04, 2.47707636e+04, 3.12571585e+04, 3.94420606e+04,\n",
              "       4.97702356e+04, 6.28029144e+04, 7.92482898e+04, 1.00000000e+05])"
            ]
          },
          "metadata": {
            "tags": []
          },
          "execution_count": 24
        }
      ]
    },
    {
      "cell_type": "code",
      "metadata": {
        "id": "sBwQVqN3gxrw"
      },
      "source": [
        "cond = x2 > 1e-3"
      ],
      "execution_count": null,
      "outputs": []
    },
    {
      "cell_type": "code",
      "metadata": {
        "id": "jyMHMjJhgEgc",
        "outputId": "c2b868a0-e45f-4a3f-e9e6-ad8ac510e83e",
        "colab": {
          "base_uri": "https://localhost:8080/"
        }
      },
      "source": [
        "x2[cond]"
      ],
      "execution_count": null,
      "outputs": [
        {
          "output_type": "execute_result",
          "data": {
            "text/plain": [
              "array([1.04761575e-03, 1.32194115e-03, 1.66810054e-03, 2.10490414e-03,\n",
              "       2.65608778e-03, 3.35160265e-03, 4.22924287e-03, 5.33669923e-03,\n",
              "       6.73415066e-03, 8.49753436e-03, 1.07226722e-02, 1.35304777e-02,\n",
              "       1.70735265e-02, 2.15443469e-02, 2.71858824e-02, 3.43046929e-02,\n",
              "       4.32876128e-02, 5.46227722e-02, 6.89261210e-02, 8.69749003e-02,\n",
              "       1.09749877e-01, 1.38488637e-01, 1.74752840e-01, 2.20513074e-01,\n",
              "       2.78255940e-01, 3.51119173e-01, 4.43062146e-01, 5.59081018e-01,\n",
              "       7.05480231e-01, 8.90215085e-01, 1.12332403e+00, 1.41747416e+00,\n",
              "       1.78864953e+00, 2.25701972e+00, 2.84803587e+00, 3.59381366e+00,\n",
              "       4.53487851e+00, 5.72236766e+00, 7.22080902e+00, 9.11162756e+00,\n",
              "       1.14975700e+01, 1.45082878e+01, 1.83073828e+01, 2.31012970e+01,\n",
              "       2.91505306e+01, 3.67837977e+01, 4.64158883e+01, 5.85702082e+01,\n",
              "       7.39072203e+01, 9.32603347e+01, 1.17681195e+02, 1.48496826e+02,\n",
              "       1.87381742e+02, 2.36448941e+02, 2.98364724e+02, 3.76493581e+02,\n",
              "       4.75081016e+02, 5.99484250e+02, 7.56463328e+02, 9.54548457e+02,\n",
              "       1.20450354e+03, 1.51991108e+03, 1.91791026e+03, 2.42012826e+03,\n",
              "       3.05385551e+03, 3.85352859e+03, 4.86260158e+03, 6.13590727e+03,\n",
              "       7.74263683e+03, 9.77009957e+03, 1.23284674e+04, 1.55567614e+04,\n",
              "       1.96304065e+04, 2.47707636e+04, 3.12571585e+04, 3.94420606e+04,\n",
              "       4.97702356e+04, 6.28029144e+04, 7.92482898e+04, 1.00000000e+05])"
            ]
          },
          "metadata": {
            "tags": []
          },
          "execution_count": 28
        }
      ]
    },
    {
      "cell_type": "code",
      "metadata": {
        "id": "IxUpwGyw9EW7",
        "outputId": "6a22c898-e899-4b0d-ec29-d0d10926dff2",
        "colab": {
          "base_uri": "https://localhost:8080/"
        }
      },
      "source": [
        "!pip install random-pesel "
      ],
      "execution_count": null,
      "outputs": [
        {
          "output_type": "stream",
          "text": [
            "Collecting random-pesel\n",
            "  Downloading https://files.pythonhosted.org/packages/66/fc/2776f92af97e34acdf431f90f75483dc44f16c3c5cd619aee50b17075865/random_pesel-1.0-py3-none-any.whl\n",
            "Installing collected packages: random-pesel\n",
            "Successfully installed random-pesel-1.0\n"
          ],
          "name": "stdout"
        }
      ]
    },
    {
      "cell_type": "code",
      "metadata": {
        "id": "nZWk-3289wYU",
        "outputId": "167c3b10-4651-4f89-c8f9-0c86ac043cdf",
        "colab": {
          "base_uri": "https://localhost:8080/",
          "height": 35
        }
      },
      "source": [
        "from random_pesel import RandomPESEL\n",
        "pesel = RandomPESEL()\n",
        "\n",
        "# Generate random PESEL number\n",
        "pesel.generate()"
      ],
      "execution_count": null,
      "outputs": [
        {
          "output_type": "execute_result",
          "data": {
            "application/vnd.google.colaboratory.intrinsic+json": {
              "type": "string"
            },
            "text/plain": [
              "'32040112137'"
            ]
          },
          "metadata": {
            "tags": []
          },
          "execution_count": 30
        }
      ]
    },
    {
      "cell_type": "code",
      "metadata": {
        "id": "Kmhl9glyhZI1",
        "outputId": "38aeee3a-b239-48db-85bc-33dce110a223",
        "colab": {
          "base_uri": "https://localhost:8080/",
          "height": 35
        }
      },
      "source": [
        "# Generate random PESEL number\n",
        "pesel.generate()"
      ],
      "execution_count": null,
      "outputs": [
        {
          "output_type": "execute_result",
          "data": {
            "application/vnd.google.colaboratory.intrinsic+json": {
              "type": "string"
            },
            "text/plain": [
              "'74041830429'"
            ]
          },
          "metadata": {
            "tags": []
          },
          "execution_count": 31
        }
      ]
    },
    {
      "cell_type": "code",
      "metadata": {
        "id": "9UV2PBFX-qIg"
      },
      "source": [
        "from tqdm import tqdm"
      ],
      "execution_count": null,
      "outputs": []
    },
    {
      "cell_type": "code",
      "metadata": {
        "id": "1Gs8Al5D90Uq",
        "outputId": "fc22ed30-178b-494b-9b48-abcaf4baa012",
        "colab": {
          "base_uri": "https://localhost:8080/"
        }
      },
      "source": [
        "pesel_list = []\n",
        "for _ in tqdm(range(10000000)):\n",
        "  current_pesel = pesel.generate()\n",
        "  pesel_list.append(int(current_pesel))"
      ],
      "execution_count": null,
      "outputs": [
        {
          "output_type": "stream",
          "text": [
            "100%|██████████| 10000000/10000000 [03:04<00:00, 54075.78it/s]\n"
          ],
          "name": "stderr"
        }
      ]
    },
    {
      "cell_type": "code",
      "metadata": {
        "id": "78m7GY-GrO1s",
        "outputId": "729e7e50-10b4-45de-d7d8-0b8a4e92eab4",
        "colab": {
          "base_uri": "https://localhost:8080/"
        }
      },
      "source": [
        "len(pesel_list)"
      ],
      "execution_count": null,
      "outputs": [
        {
          "output_type": "execute_result",
          "data": {
            "text/plain": [
              "10000000"
            ]
          },
          "metadata": {
            "tags": []
          },
          "execution_count": 34
        }
      ]
    },
    {
      "cell_type": "code",
      "metadata": {
        "id": "RUsMZ1_Aih-R",
        "outputId": "8cf96670-ec77-452b-a2f7-9240ea4f0ad4",
        "colab": {
          "base_uri": "https://localhost:8080/"
        }
      },
      "source": [
        "pesel_list[13]"
      ],
      "execution_count": null,
      "outputs": [
        {
          "output_type": "execute_result",
          "data": {
            "text/plain": [
              "87042623868"
            ]
          },
          "metadata": {
            "tags": []
          },
          "execution_count": 36
        }
      ]
    },
    {
      "cell_type": "code",
      "metadata": {
        "id": "wwIhjnj9imP5",
        "outputId": "7902927a-9490-4821-e464-95f137739205",
        "colab": {
          "base_uri": "https://localhost:8080/"
        }
      },
      "source": [
        "pesel_list[13] % 1000"
      ],
      "execution_count": null,
      "outputs": [
        {
          "output_type": "execute_result",
          "data": {
            "text/plain": [
              "868"
            ]
          },
          "metadata": {
            "tags": []
          },
          "execution_count": 37
        }
      ]
    },
    {
      "cell_type": "code",
      "metadata": {
        "id": "W7N82dociqid",
        "outputId": "b0f13cfa-ac0e-4852-87e8-0a44c5d486ce",
        "colab": {
          "base_uri": "https://localhost:8080/"
        }
      },
      "source": [
        "pesel_list[13] % 1000 == 137"
      ],
      "execution_count": null,
      "outputs": [
        {
          "output_type": "execute_result",
          "data": {
            "text/plain": [
              "False"
            ]
          },
          "metadata": {
            "tags": []
          },
          "execution_count": 38
        }
      ]
    },
    {
      "cell_type": "code",
      "metadata": {
        "id": "_3JqSWPR-0WT",
        "outputId": "b5f9e25c-919e-43ec-a157-0f4fcf0cf5e4",
        "colab": {
          "base_uri": "https://localhost:8080/"
        }
      },
      "source": [
        "%time filtered_list = [x for x in pesel_list if x % 1000 == 137]"
      ],
      "execution_count": null,
      "outputs": [
        {
          "output_type": "stream",
          "text": [
            "CPU times: user 1.09 s, sys: 14 µs, total: 1.09 s\n",
            "Wall time: 1.1 s\n"
          ],
          "name": "stdout"
        }
      ]
    },
    {
      "cell_type": "code",
      "metadata": {
        "id": "jX7sLZkn_86F",
        "outputId": "e1ce9446-2842-4956-fb05-1be0a4f5f90e",
        "colab": {
          "base_uri": "https://localhost:8080/"
        }
      },
      "source": [
        "len(filtered_list)"
      ],
      "execution_count": null,
      "outputs": [
        {
          "output_type": "execute_result",
          "data": {
            "text/plain": [
              "10110"
            ]
          },
          "metadata": {
            "tags": []
          },
          "execution_count": 40
        }
      ]
    },
    {
      "cell_type": "code",
      "metadata": {
        "id": "5p95N6c0rRsV",
        "outputId": "eb54bdf4-e478-462a-d36c-6a420494ae47",
        "colab": {
          "base_uri": "https://localhost:8080/"
        }
      },
      "source": [
        "100 * len(filtered_list) / len(pesel_list)"
      ],
      "execution_count": null,
      "outputs": [
        {
          "output_type": "execute_result",
          "data": {
            "text/plain": [
              "0.1011"
            ]
          },
          "metadata": {
            "tags": []
          },
          "execution_count": 42
        }
      ]
    },
    {
      "cell_type": "code",
      "metadata": {
        "id": "wQ4OXJNi_U2L"
      },
      "source": [
        "pesel_ndarray = np.asarray(pesel_list)"
      ],
      "execution_count": null,
      "outputs": []
    },
    {
      "cell_type": "code",
      "metadata": {
        "id": "-SbT_dsC_r08",
        "outputId": "6c41f369-db49-4a43-fa08-dc3316b69673",
        "colab": {
          "base_uri": "https://localhost:8080/"
        }
      },
      "source": [
        "%time filtered_ndarray = pesel_ndarray[pesel_ndarray % 1000 == 137]"
      ],
      "execution_count": null,
      "outputs": [
        {
          "output_type": "stream",
          "text": [
            "CPU times: user 136 ms, sys: 42.1 ms, total: 178 ms\n",
            "Wall time: 181 ms\n"
          ],
          "name": "stdout"
        }
      ]
    },
    {
      "cell_type": "code",
      "metadata": {
        "id": "7TG5fzvV_tP8",
        "outputId": "38a2d83a-c98b-44e9-d527-af2130a6e591",
        "colab": {
          "base_uri": "https://localhost:8080/"
        }
      },
      "source": [
        "len(filtered_ndarray)"
      ],
      "execution_count": null,
      "outputs": [
        {
          "output_type": "execute_result",
          "data": {
            "text/plain": [
              "10110"
            ]
          },
          "metadata": {
            "tags": []
          },
          "execution_count": 45
        }
      ]
    },
    {
      "cell_type": "code",
      "metadata": {
        "id": "3euVzuWuALrJ",
        "outputId": "bbd7fafb-378b-4305-8cf0-6708174e561d",
        "colab": {
          "base_uri": "https://localhost:8080/"
        }
      },
      "source": [
        "%time x = np.random.randint(low=1, high=100000, size=10000000)"
      ],
      "execution_count": null,
      "outputs": [
        {
          "output_type": "stream",
          "text": [
            "CPU times: user 111 ms, sys: 0 ns, total: 111 ms\n",
            "Wall time: 113 ms\n"
          ],
          "name": "stdout"
        }
      ]
    },
    {
      "cell_type": "code",
      "metadata": {
        "id": "NE00HxFqB-zX"
      },
      "source": [
        "n = 40000000\n",
        "year = np.random.randint(low=00, high=99, size=n)\n",
        "month = np.random.randint(low=1, high=12, size=n)\n",
        "day = np.random.randint(low=1, high=30, size=n)\n",
        "ser_1 = np.random.randint(low=0, high=9, size=n)\n",
        "ser_2 = np.random.randint(low=0, high=9, size=n)\n",
        "ser_3 = np.random.randint(low=0, high=9, size=n)\n",
        "sex = np.random.randint(low=0, high=1, size=n)\n",
        "\n",
        "day[month == 1] = np.random.randint(low=1, high=31, size=n)\n",
        "\n",
        "# checksum\n",
        "control = (year//10) + 3*(year%10)\n",
        "control += 7*(month//10) + 9*(month%10)\n",
        "control += (day//10) + 3*(day%10)\n",
        "control += 7*(ser_1//10) + 9*(ser_1%10)\n",
        "control += (ser_2//10) + 3*(ser_2%10)\n",
        "control += 7*(ser_3//10) + 9*(ser_3%10)\n",
        "control += (sex//10) + 3*(sex%10)\n",
        "\n",
        "control = (10 - (control % 10)) % 10\n",
        "\n",
        "pesel_db = 1000000000*year + 10000000*month + 100000*day + 10000*ser_1 + 1000*ser_2 + 100*ser_3 + 10 * sex + control"
      ],
      "execution_count": null,
      "outputs": []
    },
    {
      "cell_type": "code",
      "metadata": {
        "id": "F9thLvfPB_SE",
        "outputId": "c825593e-9211-42b7-d232-1cd4e0e93b2e",
        "colab": {
          "base_uri": "https://localhost:8080/"
        }
      },
      "source": [
        "pesel_db[1]"
      ],
      "execution_count": null,
      "outputs": [
        {
          "output_type": "execute_result",
          "data": {
            "text/plain": [
              "78080400409"
            ]
          },
          "metadata": {
            "tags": []
          },
          "execution_count": 48
        }
      ]
    },
    {
      "cell_type": "code",
      "metadata": {
        "id": "HFmjp0i7C1SV",
        "outputId": "f7d051d4-73f4-47b2-b7d8-6a2a8e82e458",
        "colab": {
          "base_uri": "https://localhost:8080/"
        }
      },
      "source": [
        "%time filtered_ndarray = pesel_db[pesel_db % 1000 == 137]"
      ],
      "execution_count": null,
      "outputs": [
        {
          "output_type": "stream",
          "text": [
            "CPU times: user 530 ms, sys: 1.94 ms, total: 532 ms\n",
            "Wall time: 534 ms\n"
          ],
          "name": "stdout"
        }
      ]
    },
    {
      "cell_type": "code",
      "metadata": {
        "id": "cyXnVC98jx4Z"
      },
      "source": [
        "pesel_list2 = pesel_db.tolist()"
      ],
      "execution_count": null,
      "outputs": []
    },
    {
      "cell_type": "code",
      "metadata": {
        "id": "3SocHIrhj25F",
        "outputId": "020117b0-4248-4b35-969d-a15f4d4586b4",
        "colab": {
          "base_uri": "https://localhost:8080/"
        }
      },
      "source": [
        "%time filtered_list = [x for x in pesel_list2 if x % 1000 == 137]"
      ],
      "execution_count": null,
      "outputs": [
        {
          "output_type": "stream",
          "text": [
            "CPU times: user 4.21 s, sys: 1.73 ms, total: 4.22 s\n",
            "Wall time: 4.22 s\n"
          ],
          "name": "stdout"
        }
      ]
    },
    {
      "cell_type": "code",
      "metadata": {
        "id": "5JUywpAtIyk1",
        "outputId": "7686fa7f-ef6f-4364-e883-de30d83f3274",
        "colab": {
          "base_uri": "https://localhost:8080/"
        }
      },
      "source": [
        "pesel_db.nbytes // 1000000"
      ],
      "execution_count": null,
      "outputs": [
        {
          "output_type": "execute_result",
          "data": {
            "text/plain": [
              "320"
            ]
          },
          "metadata": {
            "tags": []
          },
          "execution_count": 52
        }
      ]
    },
    {
      "cell_type": "code",
      "metadata": {
        "id": "-lowC-1wuHu5",
        "outputId": "20e88bfc-cd8a-4913-f022-c009af76a5e2",
        "colab": {
          "base_uri": "https://localhost:8080/"
        }
      },
      "source": [
        "%time res = np.unique(pesel_db, return_counts=True)"
      ],
      "execution_count": null,
      "outputs": [
        {
          "output_type": "stream",
          "text": [
            "CPU times: user 5.69 s, sys: 227 ms, total: 5.92 s\n",
            "Wall time: 5.93 s\n"
          ],
          "name": "stdout"
        }
      ]
    },
    {
      "cell_type": "code",
      "metadata": {
        "id": "SRSmZSaWkdHY",
        "outputId": "63a546ce-ce01-4414-cf5a-987dd98de911",
        "colab": {
          "base_uri": "https://localhost:8080/"
        }
      },
      "source": [
        "res"
      ],
      "execution_count": null,
      "outputs": [
        {
          "output_type": "execute_result",
          "data": {
            "text/plain": [
              "(array([   10100008,    10100109,    10100200, ..., 98112988602,\n",
              "        98112988703, 98112988804]), array([2, 1, 5, ..., 1, 3, 1]))"
            ]
          },
          "metadata": {
            "tags": []
          },
          "execution_count": 56
        }
      ]
    },
    {
      "cell_type": "code",
      "metadata": {
        "id": "q_ncelf-kuvw"
      },
      "source": [
        ""
      ],
      "execution_count": null,
      "outputs": []
    }
  ]
}